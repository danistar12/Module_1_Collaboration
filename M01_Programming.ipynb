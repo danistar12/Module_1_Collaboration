{
 "cells": [
  {
   "cell_type": "code",
   "execution_count": 3,
   "id": "018c5f40-2ab2-4cae-8da6-289de7d95c5b",
   "metadata": {},
   "outputs": [
    {
     "name": "stdout",
     "output_type": "stream",
     "text": [
      "Welcome to Module 1 Programming Assignment\n"
     ]
    }
   ],
   "source": [
    "print(\"Welcome to Module 1 Programming Assignment\")"
   ]
  },
  {
   "cell_type": "code",
   "execution_count": 5,
   "id": "f8367805-d7d5-487d-a220-d6428d79ce2f",
   "metadata": {},
   "outputs": [],
   "source": [
    "seconds_per_hour=60 * 60"
   ]
  },
  {
   "cell_type": "code",
   "execution_count": 7,
   "id": "7150a31a-f26a-4c72-b04b-9ce414d320f9",
   "metadata": {},
   "outputs": [],
   "source": [
    "seconds_per_day=seconds_per_hour*24"
   ]
  },
  {
   "cell_type": "code",
   "execution_count": 14,
   "id": "b0a27bf7-9d27-4c7d-9215-4b4b6451fb71",
   "metadata": {},
   "outputs": [],
   "source": [
    "test1= seconds_per_day / seconds_per_hour"
   ]
  },
  {
   "cell_type": "code",
   "execution_count": 16,
   "id": "3b4e86d7-f43b-44e1-94dc-efbb0c61cbbc",
   "metadata": {},
   "outputs": [
    {
     "name": "stdout",
     "output_type": "stream",
     "text": [
      "24.0\n"
     ]
    }
   ],
   "source": [
    "print(test1)"
   ]
  },
  {
   "cell_type": "code",
   "execution_count": 18,
   "id": "d693c38f-6a65-4615-aeb2-9389ef86bac4",
   "metadata": {},
   "outputs": [],
   "source": [
    "test2= seconds_per_day // seconds_per_hour"
   ]
  },
  {
   "cell_type": "code",
   "execution_count": 20,
   "id": "b7362f8b-b729-4137-b971-88a40cd665a4",
   "metadata": {},
   "outputs": [
    {
     "name": "stdout",
     "output_type": "stream",
     "text": [
      "24\n"
     ]
    }
   ],
   "source": [
    "print(test2)"
   ]
  },
  {
   "cell_type": "markdown",
   "id": "f5868124-6236-46a7-846b-d9c321b283b5",
   "metadata": {},
   "source": [
    "The use of the different dividing techniques made one have a decimal and one not."
   ]
  }
 ],
 "metadata": {
  "kernelspec": {
   "display_name": "Python 3 (ipykernel)",
   "language": "python",
   "name": "python3"
  },
  "language_info": {
   "codemirror_mode": {
    "name": "ipython",
    "version": 3
   },
   "file_extension": ".py",
   "mimetype": "text/x-python",
   "name": "python",
   "nbconvert_exporter": "python",
   "pygments_lexer": "ipython3",
   "version": "3.12.4"
  }
 },
 "nbformat": 4,
 "nbformat_minor": 5
}
