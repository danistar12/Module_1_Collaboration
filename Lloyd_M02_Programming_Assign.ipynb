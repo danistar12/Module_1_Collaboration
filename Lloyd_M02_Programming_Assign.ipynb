{
 "cells": [
  {
   "cell_type": "markdown",
   "metadata": {},
   "source": [
    "Danielle Lloyd\n",
    "M02 Programming Assignment\n",
    "8/27/2024"
   ]
  },
  {
   "cell_type": "code",
   "execution_count": null,
   "metadata": {},
   "outputs": [],
   "source": [
    "#4.1\n",
    "secret=5\n",
    "guess=8\n",
    "if guess < secret:\n",
    "    print(\"Dang! Your guess is too low. Try again\")\n",
    "elif guess > secret:\n",
    "    print(\"Almost! That's a little too high!\")\n",
    "else:\n",
    "    print(\"Sorry. You've entered something that isn't correct\")"
   ]
  },
  {
   "cell_type": "code",
   "execution_count": null,
   "metadata": {},
   "outputs": [],
   "source": [
    "#4.2\n",
    "small=False\n",
    "green=True\n",
    "if small==True and green==True:\n",
    "    print(\"You most likely have a pea!\")\n",
    "elif small==False and green==True:\n",
    "    print(\"You most likely have a watermelon!\")\n",
    "elif small==True and green==False:\n",
    "    print(\"You most likely have a cherry!\")\n",
    "elif small==False and green==False:\n",
    "    print(\"You most likely have a pumpkin!\")\n",
    "else:\n",
    "    print(\"Youve entered something I don't know.\")"
   ]
  }
 ],
 "metadata": {
  "kernelspec": {
   "display_name": "base",
   "language": "python",
   "name": "python3"
  },
  "language_info": {
   "codemirror_mode": {
    "name": "ipython",
    "version": 3
   },
   "file_extension": ".py",
   "mimetype": "text/x-python",
   "name": "python",
   "nbconvert_exporter": "python",
   "pygments_lexer": "ipython3",
   "version": "3.12.4"
  }
 },
 "nbformat": 4,
 "nbformat_minor": 2
}
