{
 "cells": [
  {
   "cell_type": "markdown",
   "metadata": {},
   "source": [
    "Danielle Lloyd\n",
    "M02 Programming Assignment\n",
    "8/27/2024"
   ]
  },
  {
   "cell_type": "code",
   "execution_count": 9,
   "metadata": {},
   "outputs": [
    {
     "name": "stdout",
     "output_type": "stream",
     "text": [
      "Almost! That's a little too high!\n"
     ]
    }
   ],
   "source": [
    "#4.1\n",
    "secret=5\n",
    "guess=8\n",
    "if guess < secret:\n",
    "    print(\"Dang! Your guess is too low. Try again\")\n",
    "elif guess > secret:\n",
    "    print(\"Almost! That's a little too high!\")\n",
    "else:\n",
    "    print(\"Sorry. You've entered something that isn't correct\")"
   ]
  },
  {
   "cell_type": "code",
   "execution_count": 10,
   "metadata": {},
   "outputs": [
    {
     "name": "stdout",
     "output_type": "stream",
     "text": [
      "You most likely have a watermelon!\n"
     ]
    }
   ],
   "source": [
    "#4.2\n",
    "small=False\n",
    "green=True\n",
    "if small==True and green==True:\n",
    "    print(\"You most likely have a pea!\")\n",
    "elif small==False and green==True:\n",
    "    print(\"You most likely have a watermelon!\")\n",
    "elif small==True and green==False:\n",
    "    print(\"You most likely have a cherry!\")\n",
    "elif small==False and green==False:\n",
    "    print(\"You most likely have a pumpkin!\")\n",
    "else:\n",
    "    print(\"Youve entered something I don't know.\")"
   ]
  },
  {
   "cell_type": "code",
   "execution_count": 11,
   "metadata": {},
   "outputs": [
    {
     "name": "stdout",
     "output_type": "stream",
     "text": [
      "3\n",
      "2\n",
      "1\n",
      "0\n"
     ]
    }
   ],
   "source": [
    "#6.1\n",
    "the_list=[3, 2, 1, 0]\n",
    "for element in the_list:\n",
    "    print(element)"
   ]
  },
  {
   "cell_type": "code",
   "execution_count": 12,
   "metadata": {},
   "outputs": [
    {
     "name": "stdout",
     "output_type": "stream",
     "text": [
      "Thats too low!\n",
      "Thats too low!\n",
      "Thats too low!\n",
      "Thats too low!\n",
      "Thats too low!\n",
      "Thats too low!\n",
      "found it!\n"
     ]
    }
   ],
   "source": [
    "#6.2\n",
    "guess_me=7\n",
    "number=1\n",
    "while True:\n",
    "    if number < guess_me:\n",
    "        print(\"Thats too low!\")\n",
    "    elif number == guess_me:\n",
    "        print(\"found it!\")\n",
    "        break\n",
    "    else:\n",
    "        print(\"oops!\")\n",
    "        break\n",
    "    number += 1    "
   ]
  },
  {
   "cell_type": "code",
   "execution_count": 13,
   "metadata": {},
   "outputs": [
    {
     "name": "stdout",
     "output_type": "stream",
     "text": [
      "Thats too low!\n",
      "Thats too low!\n",
      "Thats too low!\n",
      "Thats too low!\n",
      "Thats too low!\n",
      "found it!\n"
     ]
    }
   ],
   "source": [
    "#6.3\n",
    "guess_me=5\n",
    "for number in range(10):\n",
    "    if number < guess_me:\n",
    "        print(\"Thats too low!\")\n",
    "    elif number == guess_me:\n",
    "        print(\"found it!\")\n",
    "        break\n",
    "    else:\n",
    "        print(\"oops!\")\n",
    "        break\n",
    "    number += 1    "
   ]
  }
 ],
 "metadata": {
  "kernelspec": {
   "display_name": "base",
   "language": "python",
   "name": "python3"
  },
  "language_info": {
   "codemirror_mode": {
    "name": "ipython",
    "version": 3
   },
   "file_extension": ".py",
   "mimetype": "text/x-python",
   "name": "python",
   "nbconvert_exporter": "python",
   "pygments_lexer": "ipython3",
   "version": "3.12.4"
  }
 },
 "nbformat": 4,
 "nbformat_minor": 2
}
